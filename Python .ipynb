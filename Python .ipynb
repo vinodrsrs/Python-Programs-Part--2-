{
 "cells": [
  {
   "cell_type": "markdown",
   "metadata": {},
   "source": [
    "# Python Programs Part -2 "
   ]
  },
  {
   "cell_type": "markdown",
   "metadata": {},
   "source": [
    "# 1. sorting words in a string by thier length ."
   ]
  },
  {
   "cell_type": "code",
   "execution_count": 14,
   "metadata": {},
   "outputs": [
    {
     "name": "stdout",
     "output_type": "stream",
     "text": [
      "Enter string : there is big table\n",
      "output :  is big there table\n"
     ]
    }
   ],
   "source": [
    "inp = input(\" Enter string : \" )\n",
    "inp = inp.split()\n",
    "inp.sort(key = len)\n",
    "inp = \" \".join(inp)\n",
    "print(\"output : \", inp)"
   ]
  },
  {
   "cell_type": "markdown",
   "metadata": {},
   "source": [
    "# 2 . finding count of odd and even number in the list ."
   ]
  },
  {
   "cell_type": "code",
   "execution_count": 15,
   "metadata": {},
   "outputs": [
    {
     "name": "stdout",
     "output_type": "stream",
     "text": [
      "count of odd numbers in a list  :  3\n",
      "count of even numbers in a list :  2\n"
     ]
    }
   ],
   "source": [
    "lst = [6,3,5,1,8]\n",
    "oddcount  = 0\n",
    "evencount = 0\n",
    "for i in lst:\n",
    "    if(i%2==0):\n",
    "        evencount+=1\n",
    "    else:\n",
    "        oddcount+=1\n",
    "print(\"count of odd numbers in a list  : \",oddcount)        \n",
    "print(\"count of even numbers in a list : \",evencount)"
   ]
  },
  {
   "cell_type": "markdown",
   "metadata": {},
   "source": [
    "# 3. output the elements which are larger than the arithmetic mean of the array or list ."
   ]
  },
  {
   "cell_type": "code",
   "execution_count": 23,
   "metadata": {},
   "outputs": [
    {
     "name": "stdout",
     "output_type": "stream",
     "text": [
      "mean of the given array is :  4.6\n",
      "Output \n",
      "6 5 8 "
     ]
    }
   ],
   "source": [
    "lst  = [6,3,5,1,8]\n",
    "arith_mean = sum(lst)/len(lst)\n",
    "print(\"mean of the given array is : \",arith_mean)\n",
    "print(\"Output \")\n",
    "for i in lst:\n",
    "    if(i>arith_mean):\n",
    "        print(i,end = \" \")\n",
    "    "
   ]
  },
  {
   "cell_type": "markdown",
   "metadata": {},
   "source": [
    "# 4. Array addition ."
   ]
  },
  {
   "cell_type": "code",
   "execution_count": 30,
   "metadata": {},
   "outputs": [
    {
     "name": "stdout",
     "output_type": "stream",
     "text": [
      "Array addition output : \n"
     ]
    },
    {
     "data": {
      "text/plain": [
       "[[4, 5], [7, 8]]"
      ]
     },
     "execution_count": 30,
     "metadata": {},
     "output_type": "execute_result"
    }
   ],
   "source": [
    "a1 = [[1,2],\n",
    "      [3,4]]\n",
    "a2 = [[3,3],\n",
    "      [4,4]]\n",
    "res = []\n",
    "for i in range(len(a1)):\n",
    "    emp = []\n",
    "    for j in range(len(a1)):\n",
    "        emp.append(a1[i][j]+a2[i][j])\n",
    "    res.append(emp)    \n",
    "print(\"Array addition output : \")\n",
    "res"
   ]
  },
  {
   "cell_type": "markdown",
   "metadata": {},
   "source": [
    "# 5. Array substraction . "
   ]
  },
  {
   "cell_type": "code",
   "execution_count": 31,
   "metadata": {},
   "outputs": [
    {
     "name": "stdout",
     "output_type": "stream",
     "text": [
      "Array Subtraction output : \n"
     ]
    },
    {
     "data": {
      "text/plain": [
       "[[-2, -1], [-1, 0]]"
      ]
     },
     "execution_count": 31,
     "metadata": {},
     "output_type": "execute_result"
    }
   ],
   "source": [
    "a1 = [[1,2],\n",
    "      [3,4]]\n",
    "a2 = [[3,3],\n",
    "      [4,4]]\n",
    "res = []\n",
    "for i in range(len(a1)):\n",
    "    emp = []\n",
    "    for j in range(len(a2)):\n",
    "        emp.append(a1[i][j]-a2[i][j])\n",
    "        \n",
    "    res.append(emp)\n",
    "print(\"Array Subtraction output : \")\n",
    "res"
   ]
  },
  {
   "cell_type": "markdown",
   "metadata": {},
   "source": [
    "# 6. Array Multiplication ."
   ]
  },
  {
   "cell_type": "code",
   "execution_count": 39,
   "metadata": {},
   "outputs": [
    {
     "data": {
      "text/plain": [
       "[[11, 11], [25, 25]]"
      ]
     },
     "execution_count": 39,
     "metadata": {},
     "output_type": "execute_result"
    }
   ],
   "source": [
    "a1 = [[1,2],\n",
    "      [3,4]]\n",
    "a2 = [[3,3],\n",
    "      [4,4]]\n",
    "res = [[0,0],\n",
    "       [0,0]]\n",
    "if(len(a1[0])==len(a2)):\n",
    "    for i in range(len(a1[0])):\n",
    "        for j in range(len(a2)):\n",
    "            for k in range(len(a1[0])):\n",
    "                res[i][j]+=a1[i][k]*a2[k][j]\n",
    "res                "
   ]
  },
  {
   "cell_type": "markdown",
   "metadata": {},
   "source": [
    "# 7. GCD or HCF program . "
   ]
  },
  {
   "cell_type": "code",
   "execution_count": 45,
   "metadata": {},
   "outputs": [
    {
     "name": "stdout",
     "output_type": "stream",
     "text": [
      "output of the program :  4\n"
     ]
    }
   ],
   "source": [
    "def gcd(n1,n2):\n",
    "    if(n1<n2):\n",
    "        small = n1\n",
    "    else:\n",
    "        small = n2\n",
    "    for i in range(small,0,-1):\n",
    "        if((n1%i==0)and(n2%i==0)):\n",
    "            hcf = i\n",
    "            break\n",
    "    print(\"output of the program : \",hcf)        \n",
    "            \n",
    "n1 =12\n",
    "n2 = 16\n",
    "gcd(n1,n2)"
   ]
  },
  {
   "cell_type": "markdown",
   "metadata": {},
   "source": [
    "# 8. LCM program ."
   ]
  },
  {
   "cell_type": "code",
   "execution_count": 6,
   "metadata": {},
   "outputs": [
    {
     "name": "stdout",
     "output_type": "stream",
     "text": [
      "output of the program :  48\n"
     ]
    }
   ],
   "source": [
    "def lcm(n1,n2):\n",
    "    if(n1>n2):\n",
    "        big = n1 \n",
    "    else:\n",
    "        big = n2\n",
    "    while(True):\n",
    "        if((big%n1==0)and(big%n2==0)):\n",
    "            lcm = big\n",
    "            break\n",
    "        big+=1    \n",
    "    print(\"output of the program : \",lcm)        \n",
    "\n",
    "n1 =12\n",
    "n2 = 16\n",
    "lcm(n1,n2)"
   ]
  },
  {
   "cell_type": "markdown",
   "metadata": {},
   "source": [
    "# 9. Write a Python program to get the string from the given string where all the occurrence of its first char has been changed to '$,' except first char itself?"
   ]
  },
  {
   "cell_type": "code",
   "execution_count": 14,
   "metadata": {},
   "outputs": [
    {
     "name": "stdout",
     "output_type": "stream",
     "text": [
      "Original string : lovely day with lovely weather\n",
      "Output string   : ove$y day with $ove$y weather\n"
     ]
    }
   ],
   "source": [
    "s    = \"lovely day with lovely weather\"\n",
    "print(f\"Original string : {s}\")\n",
    "char = s[0] # get the first character .\n",
    "res  = \"\"\n",
    "for i in range(1,len(s)):\n",
    "    if(s[i]==char):\n",
    "        res +='$'\n",
    "    else:\n",
    "        res+=s[i]\n",
    "print(f\"Output string   : {res}\")   "
   ]
  },
  {
   "cell_type": "markdown",
   "metadata": {},
   "source": [
    "# 10 . Write a Python program to get the single string from the two given strings, and separated by the space and swap the first two characters of each string?"
   ]
  },
  {
   "cell_type": "code",
   "execution_count": 26,
   "metadata": {},
   "outputs": [
    {
     "name": "stdout",
     "output_type": "stream",
     "text": [
      "input two strings are :  vinod sunny\n",
      "output string after swapping :  sunod vinny\n"
     ]
    }
   ],
   "source": [
    "s1 = \"vinod\"\n",
    "s2 = \"sunny\"\n",
    "print(f\"input two strings are : \",s1,s2)\n",
    "s1 = [i for i in s1]\n",
    "s2 = [i for i in s2]\n",
    "s1[:2],s2[:2] = s2[:2],s1[:2]\n",
    "print(f\"output string after swapping : \",\"\".join(s1)+\" \"+\"\".join(s2))"
   ]
  },
  {
   "cell_type": "markdown",
   "metadata": {},
   "source": [
    "# 11. Write the Python program to find the first appearance of the substring 'not' and 'poor' from the given string, if 'not' follows the 'poor', replace the whole 'not'...' poor' substring with 'good'.Return the resulting string."
   ]
  },
  {
   "cell_type": "code",
   "execution_count": 44,
   "metadata": {},
   "outputs": [
    {
     "name": "stdout",
     "output_type": "stream",
     "text": [
      "original string is : The lyrics is not that poor !\n",
      "output   string is : The lyrics is good !\n"
     ]
    }
   ],
   "source": [
    "s = 'The lyrics is not that poor !'\n",
    "f = s.find('not')\n",
    "l = s.find('poor')\n",
    "if(l>f):\n",
    "    res = s.replace(s[f:l+4],\"good\")\n",
    "print(f\"original string is : {s}\")\n",
    "print(f\"output   string is : {res}\")    "
   ]
  },
  {
   "cell_type": "markdown",
   "metadata": {},
   "source": [
    "# 12. Write the Python program to remove the characters which have odd index values of a given string."
   ]
  },
  {
   "cell_type": "code",
   "execution_count": 48,
   "metadata": {},
   "outputs": [
    {
     "name": "stdout",
     "output_type": "stream",
     "text": [
      "vndsny1\n"
     ]
    }
   ],
   "source": [
    "s = \"vinod sunny-1\"\n",
    "print(s[0::2])"
   ]
  },
  {
   "cell_type": "markdown",
   "metadata": {},
   "source": [
    "# 13. Write the Python program to count occurrences of a substring in a String?"
   ]
  },
  {
   "cell_type": "code",
   "execution_count": 52,
   "metadata": {},
   "outputs": [
    {
     "name": "stdout",
     "output_type": "stream",
     "text": [
      "mainstring : ababcab \n",
      "  substring : abc\n",
      "\n",
      "count of substring in mainstring :  1\n"
     ]
    }
   ],
   "source": [
    "ms = \"ababcab\"\n",
    "ss = \"abc\"\n",
    "c = 0\n",
    "for i in range(0,len(ms)-len(ss)+1):\n",
    "    flag = 1\n",
    "    for j in range(len(ss)):\n",
    "        if(ss[j]==ms[i+j]):\n",
    "            continue\n",
    "        else:\n",
    "            flag = 0\n",
    "            break\n",
    "    if(flag==0):\n",
    "        continue\n",
    "    else:\n",
    "        c+=1\n",
    "print(f\"mainstring : {ms} \\n  substring : {ss}\\n\")\n",
    "print(\"count of substring in mainstring : \",c)        "
   ]
  },
  {
   "cell_type": "markdown",
   "metadata": {},
   "source": [
    "# 14. Write the Python program to count occurences of characters in a string."
   ]
  },
  {
   "cell_type": "code",
   "execution_count": 62,
   "metadata": {},
   "outputs": [
    {
     "name": "stdout",
     "output_type": "stream",
     "text": [
      "('g', 2)\n",
      "('d', 4)\n",
      "('r', 1)\n",
      "('j', 1)\n",
      "('k', 1)\n",
      "('a', 4)\n",
      "('e', 2)\n",
      "('f', 4)\n",
      "('s', 5)\n",
      "('b', 1)\n"
     ]
    }
   ],
   "source": [
    "s  = \"akjdbadgsdefgersfsdfsfaas\"\n",
    "d  = dict()\n",
    "dif_char = set(s)\n",
    "for i in dif_char:\n",
    "    d[i] = s.count(i)\n",
    "for i in d.items():\n",
    "    print(i)"
   ]
  },
  {
   "cell_type": "markdown",
   "metadata": {},
   "source": [
    "# 15. Write the Python program to check if a string contains all letters of the alphabet ?"
   ]
  },
  {
   "cell_type": "code",
   "execution_count": 78,
   "metadata": {},
   "outputs": [
    {
     "name": "stdout",
     "output_type": "stream",
     "text": [
      "Sample string is : \n",
      " {'g', 'u', 'd', 'w', 'j', 'b', 'x', 'c', 't', 'e', 'o', 'l', 'p', 'a', 'f', 'v', 'i', 'r', 'y', 'm', 'k', 'n', 'q', 'h', 's', 'z'}\n",
      "output : string contains all the letters of alphabhet\n",
      "\n",
      "\n",
      "\n",
      "Sample string is : \n",
      " hello world \n",
      "output : String does not contains all the letters of alphabhet\n",
      "\n",
      "\n",
      "\n"
     ]
    }
   ],
   "source": [
    "alphabhets = [chr(i) for i in range(97,123) ]\n",
    "alphabhets = set(alphabhets)\n",
    "s = \"hello world \" \n",
    "for i in [alphabhets,s]:\n",
    "    print(\"Sample string is : \\n\",i )\n",
    "    if(set(i).issubset(alphabhets)):\n",
    "        print(f\"output : string contains all the letters of alphabhet\")\n",
    "    else:\n",
    "        print(f\"output : String does not contains all the letters of alphabhet\")\n",
    "    print(\"\\n\\n\")    "
   ]
  },
  {
   "cell_type": "markdown",
   "metadata": {},
   "source": [
    "# 16.  Write the Python program to count the number of strings where the string length is 2 or more, and first and last character are same from a given list of strings ."
   ]
  },
  {
   "cell_type": "code",
   "execution_count": 86,
   "metadata": {},
   "outputs": [
    {
     "name": "stdout",
     "output_type": "stream",
     "text": [
      "['sdads', 'bb', 'pop']\n",
      "3\n"
     ]
    }
   ],
   "source": [
    "lst = [\"sdads\",\"a\",\"bb\",\"c\",\"dfg\",\"pop\"]\n",
    "c = 0\n",
    "out = []\n",
    "for i in lst:\n",
    "    if(len(i)>=2):\n",
    "        if(i[0]==i[-1]):\n",
    "            c+=1\n",
    "            out.append(i)\n",
    "print(out)\n",
    "print(c)            "
   ]
  },
  {
   "cell_type": "markdown",
   "metadata": {},
   "source": [
    "# 17.  Write the Python program to get a list, sorted in increasing order by the last element in each tuple from the given list of non-empty tuples?¶"
   ]
  },
  {
   "cell_type": "code",
   "execution_count": 106,
   "metadata": {},
   "outputs": [
    {
     "name": "stdout",
     "output_type": "stream",
     "text": [
      "original list : [(2, 5), (1, 2), (4, 4), (2, 3), (2, 1)]\n",
      "final    list : [(2, 1), (1, 2), (2, 3), (4, 4), (2, 5)]\n"
     ]
    }
   ],
   "source": [
    "a = [ (2, 5), (1, 2), (4, 4), (2, 3), (2, 1) ]\n",
    "#print(\"Input List is  : \",a) \n",
    "out = []\n",
    "for i in a:\n",
    "    i = list(i)\n",
    "    i[0],i[1] = i[1],i[0]\n",
    "    out.append(tuple(i))\n",
    "out.sort()\n",
    "final = []\n",
    "for i in out:\n",
    "    i = list(i)\n",
    "    i[0],i[1] = i[1],i[0]\n",
    "    final.append(tuple(i))\n",
    "print(f\"original list : {a}\")\n",
    "print(f\"final    list : {final}\")"
   ]
  },
  {
   "cell_type": "markdown",
   "metadata": {},
   "source": [
    "## 18 . Write the Python program to remove duplicates from a list?"
   ]
  },
  {
   "cell_type": "code",
   "execution_count": 108,
   "metadata": {},
   "outputs": [
    {
     "name": "stdout",
     "output_type": "stream",
     "text": [
      "list with duplicates : [1, 25, 5, 6, 5, 7, 7, 3, 2] \n",
      "list without duplicates :  [1, 2, 3, 5, 6, 7, 25]\n"
     ]
    }
   ],
   "source": [
    "lst = [1,25,5,6,5,7,7,3,2]\n",
    "print(f\"list with duplicates : {lst} \")\n",
    "print(\"list without duplicates : \",list(set(lst)))"
   ]
  },
  {
   "cell_type": "markdown",
   "metadata": {},
   "source": [
    "# 19. Write the Python program to find the list of words that are longer than n from a given list of words?"
   ]
  },
  {
   "cell_type": "code",
   "execution_count": 110,
   "metadata": {},
   "outputs": [
    {
     "name": "stdout",
     "output_type": "stream",
     "text": [
      "Enter n value : 4\n",
      "original list of words : \n",
      "['Hello', 'world', 'I', 'am', 'vinod', 'Sunny,', 'i', 'live', 'in', 'Davanagere']\n",
      "list words which are longer than 4\n",
      "['Hello', 'world', 'vinod', 'Sunny,', 'Davanagere']\n"
     ]
    }
   ],
   "source": [
    "lst_words = \"Hello world I am vinod Sunny, i live in Davanagere \".split()\n",
    "n  = int(input(\"Enter n value : \"))\n",
    "out = []\n",
    "for i in lst_words:\n",
    "    if(len(i)>n):\n",
    "        out.append(i)\n",
    "print(\"original list of words : \")\n",
    "print(lst_words)\n",
    "print(f\"list words which are longer than {n}\")\n",
    "print(out)"
   ]
  },
  {
   "cell_type": "markdown",
   "metadata": {},
   "source": [
    "# 20.  Write the Python program to print a specified list after removing the 0th, 4th, and 5th elements?"
   ]
  },
  {
   "cell_type": "code",
   "execution_count": 114,
   "metadata": {},
   "outputs": [
    {
     "name": "stdout",
     "output_type": "stream",
     "text": [
      "original list : ['zero', 'one', 'two', 'three', 'four', 'five', 'six']\n",
      "lis after removing 0,4,5 index values : ['one', 'two', 'three', 'six']\n"
     ]
    }
   ],
   "source": [
    "lst = [\"zero\",\"one\",\"two\",\"three\",\"four\",\"five\",\"six\"]\n",
    "out = []\n",
    "for i,j in enumerate(lst):\n",
    "    if(i not in [0,4,5]):\n",
    "        out.append(j)\n",
    "print(f\"original list : {lst}\")        \n",
    "print(f\"lis after removing 0,4,5 index values : {out}\")        "
   ]
  },
  {
   "cell_type": "markdown",
   "metadata": {},
   "source": [
    "#  Programs using oops concept . "
   ]
  },
  {
   "cell_type": "markdown",
   "metadata": {},
   "source": [
    "# 21 . Example of Inheritance in Python"
   ]
  },
  {
   "cell_type": "code",
   "execution_count": 6,
   "metadata": {},
   "outputs": [
    {
     "name": "stdout",
     "output_type": "stream",
     "text": [
      "Enter student name : vinod r\n",
      "enter test 1 marks : 14\n",
      "enter test 2 marks : 13\n",
      "enter test 3 marks : 15\n",
      "\n",
      "_______________________________________________________\n",
      "\n",
      "Student name is :  vinod r\n",
      "Year of studying is :  2020\n",
      "Average marks of the student :  14.0\n"
     ]
    }
   ],
   "source": [
    "# Parent Class \n",
    "class CSE: \n",
    "    def __init__(self,year):\n",
    "        self.year = year\n",
    "     \n",
    "    def get_name_and_marks(self):\n",
    "        self.name       = input(\"Enter student name : \")\n",
    "        self.marks = [int(input(\"enter test \"+str(i)+\" marks : \")) for i in range(1,3+1)] \n",
    "      \n",
    "    def display_test_marks(self):\n",
    "        j = 1\n",
    "        for i in self.marks:\n",
    "            print(\"test\",j,\"marks is : \",i)\n",
    "            j+=1\n",
    "\n",
    "# Child Class\n",
    "class stud_avg(CSE):\n",
    "    def __init__(self):\n",
    "        CSE.__init__(self,2020)\n",
    "    \n",
    "    def display_avg(self):\n",
    "        print(\"Student name is : \",self.name)\n",
    "        print(\"Year of studying is : \",self.year)\n",
    "        a,b,c = self.marks\n",
    "        \n",
    "        avg = (a+b+c)/3\n",
    "        print(\"Average marks of the student : \",avg)\n",
    "        \n",
    "            \n",
    "            \n",
    "c = stud_avg()\n",
    "c.get_name_and_marks()\n",
    "print(\"\\n_______________________________________________________\\n\")\n",
    "c.display_avg()"
   ]
  },
  {
   "cell_type": "markdown",
   "metadata": {},
   "source": [
    "# 22. Polymorphism in Python\n",
    "\n",
    "# Function overriding"
   ]
  },
  {
   "cell_type": "code",
   "execution_count": 7,
   "metadata": {},
   "outputs": [
    {
     "name": "stdout",
     "output_type": "stream",
     "text": [
      "sum of a and b :  30\n",
      "result after joining two strings :  hello boyhow are you \n"
     ]
    }
   ],
   "source": [
    "# example : \"+\" operator \n",
    "\n",
    "# 1.example :  for add two integer number .\n",
    "\n",
    "a = 10\n",
    "b = 20\n",
    "res_sum = a+b\n",
    "print(\"sum of a and b : \",res_sum)\n",
    "\n",
    "\n",
    "# 2.example :  for concatenating two strings  .\n",
    "\n",
    "s1 = \"hello boy\"\n",
    "s2 = \"how are you \"\n",
    "join_res = s1+s2\n",
    "print(\"result after joining two strings : \",join_res)"
   ]
  },
  {
   "cell_type": "code",
   "execution_count": 8,
   "metadata": {},
   "outputs": [
    {
     "name": "stdout",
     "output_type": "stream",
     "text": [
      "length of list :  5\n",
      "length of tuple :  5\n"
     ]
    }
   ],
   "source": [
    "# example : polymorphism using inbuilt functions .\n",
    "# list and tuple both are two different data structures of python ,\n",
    "\n",
    "\n",
    "# exmaple 1 : len() method applied on list .\n",
    "\n",
    "lst = [1,2,3,4,5]\n",
    "print(\"length of list : \",len(lst))\n",
    "\n",
    "# exmaple 2 : len() method applied on tuple .\n",
    "\n",
    "tup = (432,3465,4562342,67123,45)\n",
    "print(\"length of tuple : \",len(tup))"
   ]
  },
  {
   "cell_type": "markdown",
   "metadata": {},
   "source": [
    "# 23. Polymorphism in Class Methods\n",
    "# Function overriding"
   ]
  },
  {
   "cell_type": "code",
   "execution_count": 17,
   "metadata": {},
   "outputs": [
    {
     "name": "stdout",
     "output_type": "stream",
     "text": [
      "First release of os \n",
      "os name :  windows - 7\n",
      "year of release:  2012\n",
      "version of os :  1.0\n",
      "\n",
      " Updated Version : \n",
      "\n",
      "os name :  windows ultimate - 7\n",
      "year of release:  2019\n",
      "version of os :  19.0\n"
     ]
    }
   ],
   "source": [
    "class Windows:\n",
    "    def __init__(self):\n",
    "        self.os_name = \"windows - 7\"\n",
    "    def version(self):\n",
    "        self.release_year = 2012\n",
    "        self.version      = 1.0\n",
    "        print(\"First release of os \")\n",
    "        print(\"os name : \",self.os_name)\n",
    "        print(\"year of release: \",self.release_year)\n",
    "        print(\"version of os : \",self.version)\n",
    "      \n",
    "        \n",
    "        \n",
    "class latest_windows(Windows):\n",
    "    def __init_(self):\n",
    "        windows.__init__(self)\n",
    "    \n",
    "    def version(self):\n",
    "        self.os_name = \"windows ultimate - 7\"\n",
    "        self.release_year = 2019\n",
    "        self.version      = 19.0\n",
    "        print(\"os name : \",self.os_name)\n",
    "        print(\"year of release: \",self.release_year)\n",
    "        print(\"version of os : \",self.version)\n",
    "        \n",
    "        \n",
    "        \n",
    "w = Windows()\n",
    "l = latest_windows()\n",
    "w.version()\n",
    "print(\"\\n Updated Version : \\n\")\n",
    "l.version()"
   ]
  },
  {
   "cell_type": "markdown",
   "metadata": {},
   "source": [
    "# 24 . Python Method Overloading "
   ]
  },
  {
   "cell_type": "raw",
   "metadata": {},
   "source": [
    "Python like other programming languages does not supports method overloading . \n",
    "\n",
    "The problem with method overloading in Python is that we may overload the methods but can only use the latest defined method."
   ]
  },
  {
   "cell_type": "code",
   "execution_count": 29,
   "metadata": {},
   "outputs": [
    {
     "name": "stdout",
     "output_type": "stream",
     "text": [
      "sum of a and b :  30\n"
     ]
    }
   ],
   "source": [
    "def summ(a,b,c):\n",
    "    print(\"sum of a,b and c : \",a+b+c)\n",
    "    \n",
    "def summ(a,b):\n",
    "    print(\"sum of a and b : \",a+b)\n",
    "\n",
    "#summ(1,2,5) # uncommment this line to get the error msg to undertsand in a better manner .\n",
    "summ(10,20)"
   ]
  },
  {
   "cell_type": "markdown",
   "metadata": {},
   "source": [
    "# 25. Private variables and methods .  "
   ]
  },
  {
   "cell_type": "raw",
   "metadata": {},
   "source": [
    "Private variables and memebrs are those variables and function which cannot be accessed out of it's scope  . "
   ]
  },
  {
   "cell_type": "code",
   "execution_count": 31,
   "metadata": {},
   "outputs": [],
   "source": [
    "# every private var and methods starts with __(double underscore ) .\n",
    "#example : \n",
    "__name = \"sunny\""
   ]
  },
  {
   "cell_type": "code",
   "execution_count": 41,
   "metadata": {},
   "outputs": [
    {
     "data": {
      "text/plain": [
       "'I am public variable '"
      ]
     },
     "execution_count": 41,
     "metadata": {},
     "output_type": "execute_result"
    }
   ],
   "source": [
    "class Example:\n",
    "    def __init__(self):\n",
    "        self.s1 = \"I am public variable \"     # public variable .\n",
    "        self.__s2 = \"I am Private Variable \"  # private variable\n",
    "        \n",
    "c = Example()\n",
    "c.s1"
   ]
  },
  {
   "cell_type": "code",
   "execution_count": 36,
   "metadata": {},
   "outputs": [
    {
     "ename": "AttributeError",
     "evalue": "'Example' object has no attribute 's2'",
     "output_type": "error",
     "traceback": [
      "\u001b[1;31m---------------------------------------------------------------------------\u001b[0m",
      "\u001b[1;31mAttributeError\u001b[0m                            Traceback (most recent call last)",
      "\u001b[1;32m<ipython-input-36-4b0761cf2432>\u001b[0m in \u001b[0;36m<module>\u001b[1;34m\u001b[0m\n\u001b[0;32m      2\u001b[0m \u001b[1;31m# if we try access a private variable outside it's scope well get an error aa below .\u001b[0m\u001b[1;33m\u001b[0m\u001b[1;33m\u001b[0m\u001b[1;33m\u001b[0m\u001b[0m\n\u001b[0;32m      3\u001b[0m \u001b[1;33m\u001b[0m\u001b[0m\n\u001b[1;32m----> 4\u001b[1;33m \u001b[0mc\u001b[0m\u001b[1;33m.\u001b[0m\u001b[0ms2\u001b[0m\u001b[1;33m\u001b[0m\u001b[1;33m\u001b[0m\u001b[0m\n\u001b[0m",
      "\u001b[1;31mAttributeError\u001b[0m: 'Example' object has no attribute 's2'"
     ]
    }
   ],
   "source": [
    "# here s2 varaible is private in nature ,so it's scope is present within it class \n",
    "# if we try access a private variable outside it's scope well get an error aa below . \n",
    "\n",
    "c.s2"
   ]
  },
  {
   "cell_type": "code",
   "execution_count": 43,
   "metadata": {},
   "outputs": [
    {
     "data": {
      "text/plain": [
       "'I am Private Variable '"
      ]
     },
     "execution_count": 43,
     "metadata": {},
     "output_type": "execute_result"
    }
   ],
   "source": [
    "# in order to access private variable of class outside it's scope you can use the belowe line of code\n",
    "\n",
    "# syntax : object._classname.__private-variable-name\n",
    "\n",
    "c._Example__s2"
   ]
  },
  {
   "cell_type": "markdown",
   "metadata": {},
   "source": [
    "# Private members of class"
   ]
  },
  {
   "cell_type": "code",
   "execution_count": 44,
   "metadata": {},
   "outputs": [
    {
     "ename": "AttributeError",
     "evalue": "'Example' object has no attribute '__privatemem'",
     "output_type": "error",
     "traceback": [
      "\u001b[1;31m---------------------------------------------------------------------------\u001b[0m",
      "\u001b[1;31mAttributeError\u001b[0m                            Traceback (most recent call last)",
      "\u001b[1;32m<ipython-input-44-ee2392166c5f>\u001b[0m in \u001b[0;36m<module>\u001b[1;34m\u001b[0m\n\u001b[0;32m      9\u001b[0m \u001b[1;33m\u001b[0m\u001b[0m\n\u001b[0;32m     10\u001b[0m \u001b[0mc\u001b[0m \u001b[1;33m=\u001b[0m \u001b[0mExample\u001b[0m\u001b[1;33m(\u001b[0m\u001b[1;33m)\u001b[0m\u001b[1;33m\u001b[0m\u001b[1;33m\u001b[0m\u001b[0m\n\u001b[1;32m---> 11\u001b[1;33m \u001b[0mc\u001b[0m\u001b[1;33m.\u001b[0m\u001b[0m__privatemem\u001b[0m\u001b[1;33m(\u001b[0m\u001b[1;33m)\u001b[0m\u001b[1;33m\u001b[0m\u001b[1;33m\u001b[0m\u001b[0m\n\u001b[0m",
      "\u001b[1;31mAttributeError\u001b[0m: 'Example' object has no attribute '__privatemem'"
     ]
    }
   ],
   "source": [
    "class Example:\n",
    "    def __init__(self):\n",
    "        self.name = \"sunny\"\n",
    "        self.age  = 35 \n",
    "        \n",
    "    def __privatefunc(self): # private function \n",
    "        print(\"Person name : \",self.name)\n",
    "        print(\"Person age  : \",self.age)\n",
    "        \n",
    "c = Example()\n",
    "c.__privatemem() # private function cannot be accessed outside it's scope . "
   ]
  },
  {
   "cell_type": "code",
   "execution_count": 47,
   "metadata": {},
   "outputs": [
    {
     "name": "stdout",
     "output_type": "stream",
     "text": [
      "Person name :  sunny\n",
      "Person age  :  35\n"
     ]
    }
   ],
   "source": [
    "# for accessing member function outside it's scope simply use . \n",
    "\n",
    "# syntax : object._classname__private-function-name . \n",
    "c._Example__privatemem()"
   ]
  },
  {
   "cell_type": "code",
   "execution_count": null,
   "metadata": {},
   "outputs": [],
   "source": []
  }
 ],
 "metadata": {
  "kernelspec": {
   "display_name": "Python 3",
   "language": "python",
   "name": "python3"
  },
  "language_info": {
   "codemirror_mode": {
    "name": "ipython",
    "version": 3
   },
   "file_extension": ".py",
   "mimetype": "text/x-python",
   "name": "python",
   "nbconvert_exporter": "python",
   "pygments_lexer": "ipython3",
   "version": "3.7.1"
  }
 },
 "nbformat": 4,
 "nbformat_minor": 2
}
